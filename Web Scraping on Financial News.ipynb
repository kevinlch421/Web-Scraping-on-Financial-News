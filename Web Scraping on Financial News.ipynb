{
 "cells": [
  {
   "cell_type": "markdown",
   "id": "0e43a660-35bf-4080-84cf-82d7a2e7f047",
   "metadata": {},
   "source": [
    "# Web Scraping on Financial News"
   ]
  },
  {
   "cell_type": "markdown",
   "id": "8feb7897-3dd4-4254-adf7-aa004e308ec2",
   "metadata": {},
   "source": [
    "**Tags:** #BeautifulSoup #pandas #dataframe #moneycontrol.com"
   ]
  },
  {
   "cell_type": "markdown",
   "id": "22736304-9699-48d3-b983-89d4b917cfff",
   "metadata": {},
   "source": [
    "**Author:** [Kevin Leung](https://www.linkedin.com/in/kelvinleung421/)"
   ]
  },
  {
   "cell_type": "markdown",
   "id": "82f741db-14f5-4da3-9639-ed82ddd67f5a",
   "metadata": {},
   "source": [
    "**Last update:** 2025-01-14 (Created: 2023-01-14)"
   ]
  },
  {
   "cell_type": "markdown",
   "id": "b31557c4-283d-47b0-ab54-c1be828e7349",
   "metadata": {},
   "source": [
    "**Description:** This notebook scrapes a financial news article from a moneycontrol.com, extracts key information (headline, description, date published, article body), and stores the extracted data into a pandas DataFrame.\n",
    "\n"
   ]
  },
  {
   "cell_type": "markdown",
   "id": "006e0be5-9fe6-4dfb-895c-2b6f6dee7858",
   "metadata": {},
   "source": [
    "**References:**\n",
    "- [Beautiful Soup Documentation](https://www.crummy.com/software/BeautifulSoup/bs4/doc/)\n",
    "- [Financial news - Lloyds Metals stock soars to record high after Incred initiates 'add' call, sees 40% upside](https://www.moneycontrol.com/news/business/markets/lloyds-metals-stock-soars-to-record-high-after-incred-initiates-add-call-sees-40-upside-12885835.html)"
   ]
  },
  {
   "cell_type": "markdown",
   "id": "5477927a-cb1e-49d8-ae05-e51776449d25",
   "metadata": {},
   "source": [
    "### Import libraries"
   ]
  },
  {
   "cell_type": "code",
   "execution_count": 74,
   "id": "e6c78289-d510-43df-b48d-278ba5d3bd28",
   "metadata": {},
   "outputs": [],
   "source": [
    "import bs4\n",
    "import requests\n",
    "import json\n",
    "import re\n",
    "import pandas as pd"
   ]
  },
  {
   "cell_type": "markdown",
   "id": "93916df5-06f8-4603-ba8e-9ac20baceda4",
   "metadata": {},
   "source": [
    "### Web scraping using BeautifulSoup"
   ]
  },
  {
   "cell_type": "code",
   "execution_count": 77,
   "id": "12c69959-22eb-4f96-af5f-4e4c58d68272",
   "metadata": {},
   "outputs": [],
   "source": [
    "url = \"https://www.moneycontrol.com/news/business/markets/lloyds-metals-stock-soars-to-record-high-after-incred-initiates-add-call-sees-40-upside-12885835.html\"\n",
    "\n",
    "# Send a GET request to the URL\n",
    "request = requests.get(url)\n",
    "soup = bs4.BeautifulSoup(request.text, 'html.parser')\n",
    "\n",
    "# Find all script tags with type 'application/ld+json' on script 3\n",
    "all_script = soup.find_all('script', attrs={'type': 'application/ld+json'})\n",
    "script_include_neccessary_info = all_script[3]\n",
    "raw_article_str = script_include_neccessary_info.get_text().replace('\\r\\n', ' ')"
   ]
  },
  {
   "cell_type": "markdown",
   "id": "757223b8-ebe0-4037-8d45-e7dd42c74c7f",
   "metadata": {},
   "source": [
    "### Clean up the string by removing unnecessary characters"
   ]
  },
  {
   "cell_type": "code",
   "execution_count": 78,
   "id": "b05e8b03-0ff3-416a-a974-607eff227fb1",
   "metadata": {},
   "outputs": [],
   "source": [
    "# Clean up the string by removing unnecessary characters\n",
    "parts = re.split(r\"\"\"(\"[^\"]*\"|'[^']*')\"\"\", raw_article_str)\n",
    "article_str = \"\".join(parts)\n",
    "article_str = article_str[1:]\n",
    "article_str = article_str[:-1]\n",
    "\n",
    "# Load the JSON data into a dictionary\n",
    "article_dict = json.loads(article_str)"
   ]
  },
  {
   "cell_type": "markdown",
   "id": "e53ee8bd-ed89-4507-ab5e-505a1e48764b",
   "metadata": {},
   "source": [
    "### Output - Display the result in txt"
   ]
  },
  {
   "cell_type": "code",
   "execution_count": 79,
   "id": "3d7638c2-d982-4834-8497-f7094f656085",
   "metadata": {},
   "outputs": [
    {
     "name": "stdout",
     "output_type": "stream",
     "text": [
      "Headline: Lloyds Metals stock soars to record high after Incred initiates 'add' call, sees 40% upside\n",
      "Description: Incred's optimism about Lloyds Metals is driven by India's surging steel demand and elevated iron ore prices, factors that are expected to push the company's growth trajectory higher.\n",
      "Date Published: 2024-12-09T12:54:22+05:30\n",
      "Article Body: Lloyds Metals and Energy shares jumped 4.5 percent and hit a record high of Rs&nbsp;1,099 on December 9, fuelled by brokerage firm Incred Equities' upbeat growth outlook and bullish price target.  Incred Equities initiated an 'add' call on Lloyds Metals, assigning it a price target of Rs 1,476 which translates into an upside potential of a whopping 40 percent from Friday's close. Incred's bullishness over Lloyds Metals stems from&nbsp; India's soaring steel demand and high iron ore prices, which are likely to benefit the company's growth trajectory.  At 12.45 pm, shares of Lloyds Metals and Energy were trading at Rs 1,088.50 on the NSE. The sharp surge in the stock was also triggered by a spike in trading volumes in the counter. As much as&nbsp;12 lakh shares already changed hands so far,&nbsp;more than double&nbsp;the one month daily traded average of&nbsp;five&nbsp;lakh shares.  Catch all the market action on our LIVE blog  Incred Equities&nbsp;predicts an iron ore deficit in India, largely due to the unviability of newly auctioned iron ore mines and the mismatch between steel scrap availability and rising steel production--all of which are expected to create a supply shortage. In its bear case scenario, Incred anticipates this shortage to kick in from FY27.  Amid this supply shortage, iron ore prices are expected to rise, with Lloyds Metals positioned to directly benefit from the higher prices,&amp;quot; Incred believes. On that account, the brokerage also projects a remarkable 76 percent earnings-per-stock (EPS) CAGR for Lloyds Metals over FY24-27.  Disclaimer: The views and investment tips expressed by investment experts on Moneycontrol.com are their own and not those of the website or its management. Moneycontrol.com advises users to check with certified experts before taking any investment decisions.\n"
     ]
    }
   ],
   "source": [
    "# Access specific keys from the dictionary\n",
    "headline = article_dict[0]['headline']\n",
    "description = article_dict[0]['description']\n",
    "date_published = article_dict[0]['datePublished']\n",
    "article_body = article_dict[0]['articleBody']\n",
    "\n",
    "print(\"Headline:\", headline)\n",
    "print(\"Description:\", description)\n",
    "print(\"Date Published:\", date_published)\n",
    "print(\"Article Body:\", article_body)"
   ]
  },
  {
   "cell_type": "markdown",
   "id": "ae68185c-3c12-433f-9baa-20f17eb03e41",
   "metadata": {},
   "source": [
    "### Output - Display the result in Dataframe"
   ]
  },
  {
   "cell_type": "code",
   "execution_count": 81,
   "id": "c78a101b-94fc-46c1-9cb8-0b79a7e5a0b5",
   "metadata": {},
   "outputs": [
    {
     "data": {
      "text/html": [
       "<div>\n",
       "<style scoped>\n",
       "    .dataframe tbody tr th:only-of-type {\n",
       "        vertical-align: middle;\n",
       "    }\n",
       "\n",
       "    .dataframe tbody tr th {\n",
       "        vertical-align: top;\n",
       "    }\n",
       "\n",
       "    .dataframe thead th {\n",
       "        text-align: right;\n",
       "    }\n",
       "</style>\n",
       "<table border=\"1\" class=\"dataframe\">\n",
       "  <thead>\n",
       "    <tr style=\"text-align: right;\">\n",
       "      <th></th>\n",
       "      <th>Headline</th>\n",
       "      <th>Description</th>\n",
       "      <th>Date Published</th>\n",
       "      <th>Article Body</th>\n",
       "    </tr>\n",
       "  </thead>\n",
       "  <tbody>\n",
       "    <tr>\n",
       "      <th>0</th>\n",
       "      <td>Lloyds Metals stock soars to record high after...</td>\n",
       "      <td>Incred's optimism about Lloyds Metals is drive...</td>\n",
       "      <td>2024-12-09T12:54:22+05:30</td>\n",
       "      <td>Lloyds Metals and Energy shares jumped 4.5 per...</td>\n",
       "    </tr>\n",
       "  </tbody>\n",
       "</table>\n",
       "</div>"
      ],
      "text/plain": [
       "                                            Headline  \\\n",
       "0  Lloyds Metals stock soars to record high after...   \n",
       "\n",
       "                                         Description  \\\n",
       "0  Incred's optimism about Lloyds Metals is drive...   \n",
       "\n",
       "              Date Published  \\\n",
       "0  2024-12-09T12:54:22+05:30   \n",
       "\n",
       "                                        Article Body  \n",
       "0  Lloyds Metals and Energy shares jumped 4.5 per...  "
      ]
     },
     "execution_count": 81,
     "metadata": {},
     "output_type": "execute_result"
    }
   ],
   "source": [
    "data = {\n",
    "    \"Headline\": [headline],\n",
    "    \"Description\": [description],\n",
    "    \"Date Published\": [date_published],\n",
    "    \"Article Body\": [article_body]\n",
    "}\n",
    "\n",
    "df = pd.DataFrame(data)\n",
    "df"
   ]
  }
 ],
 "metadata": {
  "kernelspec": {
   "display_name": "Python 3 (ipykernel)",
   "language": "python",
   "name": "python3"
  },
  "language_info": {
   "codemirror_mode": {
    "name": "ipython",
    "version": 3
   },
   "file_extension": ".py",
   "mimetype": "text/x-python",
   "name": "python",
   "nbconvert_exporter": "python",
   "pygments_lexer": "ipython3",
   "version": "3.11.7"
  }
 },
 "nbformat": 4,
 "nbformat_minor": 5
}
